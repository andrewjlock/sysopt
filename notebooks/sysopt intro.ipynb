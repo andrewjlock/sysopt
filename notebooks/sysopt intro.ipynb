{
 "cells": [
  {
   "cell_type": "code",
   "execution_count": 1,
   "metadata": {},
   "outputs": [],
   "source": [
    "import matplotlib.pyplot as plt\n",
    "import os\n",
    "from os.path import dirname, abspath \n",
    "import sys\n",
    "sys.path.append(abspath('..'))\n",
    "\n",
    "from numpy import cos, sin"
   ]
  },
  {
   "cell_type": "markdown",
   "metadata": {
    "pycharm": {
     "name": "#%% md\n"
    },
    "slideshow": {
     "slide_type": "slide"
    }
   },
   "source": [
    "# SysOpt - Design Overview\n",
    "## A system modelling and optimisation framework for codesign.\n",
    "\n",
    "- Component based modelling tools for system capture\n",
    "- Algorithmic model reduction (only 'flattening' so far)\n",
    "- Uses existing autodiff tools for gradients."
   ]
  },
  {
   "cell_type": "code",
   "execution_count": 44,
   "metadata": {
    "pycharm": {
     "name": "#%%\n"
    },
    "slideshow": {
     "slide_type": "subslide"
    }
   },
   "outputs": [],
   "source": [
    "import sysopt\n",
    "backend = sysopt.get_default_backend()"
   ]
  },
  {
   "cell_type": "markdown",
   "metadata": {
    "slideshow": {
     "slide_type": "slide"
    }
   },
   "source": [
    "  # System models using 'wires' and 'blocks'"
   ]
  },
  {
   "cell_type": "markdown",
   "metadata": {
    "slideshow": {
     "slide_type": "subslide"
    }
   },
   "source": [
    "### Building blocks using functions (dynamics)"
   ]
  },
  {
   "cell_type": "code",
   "execution_count": 3,
   "metadata": {
    "pycharm": {
     "name": "#%%\n"
    },
    "slideshow": {
     "slide_type": "-"
    }
   },
   "outputs": [],
   "source": [
    "from sysopt import Metadata\n",
    "hsv_spec = Metadata(\n",
    "    inputs=[\"Thrust\", \"Lift\", \"Drag\", \" Pitching Moment\"],\n",
    "    state=[\"Height\", \"Velocity\", \"AoA\", \"Body Angle\", \"Pitch Rate\"],\n",
    "    parameters=[\"mass\", \"gravity\", \"Inertial moment\", \"Initial Height\", \"Initial Velocity\"]\n",
    ")"
   ]
  },
  {
   "cell_type": "code",
   "execution_count": 4,
   "metadata": {
    "slideshow": {
     "slide_type": "subslide"
    }
   },
   "outputs": [],
   "source": [
    "def dxdt(t, x, u, p):\n",
    "    h, V, alpha, theta, Q = x\n",
    "    T, L, D, M = u\n",
    "    m, g, I_yy, _, _ = p\n",
    "\n",
    "    return [V * sin(theta - alpha),\n",
    "            (T * cos(alpha) - D) / m - g * sin(theta - alpha),\n",
    "            (-T * sin(alpha) - L) / (m * V) + Q + (g / V) * cos(theta - alpha),\n",
    "            Q,\n",
    "            M / I_yy]"
   ]
  },
  {
   "cell_type": "code",
   "execution_count": 5,
   "metadata": {
    "slideshow": {
     "slide_type": "-"
    }
   },
   "outputs": [],
   "source": [
    "def x0(p):\n",
    "    _, _, _, h0, v0 = p\n",
    "    return [h0, v0, 0, 0, 0]"
   ]
  },
  {
   "cell_type": "code",
   "execution_count": 6,
   "metadata": {
    "slideshow": {
     "slide_type": "fragment"
    }
   },
   "outputs": [],
   "source": [
    "# Create the block using a factory method.\n",
    "from sysopt.blocks.builders import FullStateOutput\n",
    "dynamics = FullStateOutput(metadata=hsv_spec, \n",
    "                           dxdt=dxdt, x0=x0)"
   ]
  },
  {
   "cell_type": "markdown",
   "metadata": {
    "slideshow": {
     "slide_type": "subslide"
    }
   },
   "source": [
    "### Build the blocks (using inheritance)"
   ]
  },
  {
   "cell_type": "code",
   "execution_count": 7,
   "metadata": {
    "slideshow": {
     "slide_type": "subslide"
    }
   },
   "outputs": [],
   "source": [
    "from sysopt import Block\n",
    "\n",
    "class Propulsion(Block):\n",
    "    def __init__(self):\n",
    "        metadata = Metadata(\n",
    "            inputs=[\"fuel-to-air ratio\", \"AoA\"],\n",
    "            outputs=[\"Thrust\"],\n",
    "            parameters=[f\"beta_{i + 1}\" for i in range(8)]\n",
    "        )\n",
    "        super().__init__(metadata)\n",
    "    \n",
    "    def compute_outputs(self, t, state, constraints, inputs, parameters):\n",
    "        phi, alpha = inputs\n",
    "        C_3 = parameters[0] * phi + parameters[1]\n",
    "        C_2 = parameters[2] * phi + parameters[3]\n",
    "        C_1 = parameters[4] * phi + parameters[5]\n",
    "        C_0 = parameters[6] * phi + parameters[7]\n",
    "        thrust = C_3 * alpha ** 3 + C_2 * alpha ** 2 + C_1 * alpha + C_0\n",
    "        return thrust,"
   ]
  },
  {
   "cell_type": "code",
   "execution_count": 8,
   "metadata": {
    "slideshow": {
     "slide_type": "subslide"
    }
   },
   "outputs": [],
   "source": [
    "class AeroForces(Block):\n",
    "    def __init__(self):\n",
    "        metadata = Metadata(\n",
    "            inputs=[\"Thrust\", \"Air Density\", \"Mach\", \"AoA\", \"deflection\"],\n",
    "            outputs=[\"Thrust\", \"Lift\", \"Drag\", \" Pitching Moment\"],\n",
    "        )\n",
    "        super().__init__(metadata)\n",
    "    \n",
    "    def compute_outputs(self, t, state, constraints, u, p):\n",
    "        thrust, rho, V, alpha, delta_e = u\n",
    "\n",
    "        lift = 0         # insert calculations from parameters here\n",
    "        drag = 0\n",
    "        pitching_moment = 0\n",
    "        return thrust, lift, drag, pitching_moment"
   ]
  },
  {
   "cell_type": "code",
   "execution_count": 9,
   "metadata": {
    "slideshow": {
     "slide_type": "subslide"
    }
   },
   "outputs": [],
   "source": [
    "class AtmosphereModel(Block):\n",
    "    def __init__(self):\n",
    "        metadata = Metadata(\n",
    "            inputs=[\"altitude\"],\n",
    "            outputs=[\"temperature\", \"density\", \"pressure\"],\n",
    "        )\n",
    "        super().__init__(metadata)\n",
    "        \n",
    "    def compute_outputs(self, t, x, z, u, p):\n",
    "        h, = u\n",
    "        # interpolate data or look up from table\n",
    "        t, d, p = 0, 0, 0\n",
    "        return t, d, p"
   ]
  },
  {
   "cell_type": "markdown",
   "metadata": {
    "slideshow": {
     "slide_type": "slide"
    }
   },
   "source": [
    "### Step 3: Construct composite model"
   ]
  },
  {
   "cell_type": "code",
   "execution_count": 10,
   "metadata": {
    "slideshow": {
     "slide_type": "-"
    }
   },
   "outputs": [],
   "source": [
    "from sysopt import Composite\n",
    "\n",
    "propulsion = Propulsion()\n",
    "forces = AeroForces()   \n",
    "atmosphere = AtmosphereModel()\n",
    "\n",
    "aero_model = Composite()\n",
    "\n",
    "aero_model.components = [dynamics, propulsion, forces, atmosphere]\n",
    "\n",
    "aero_model.wires = [\n",
    "    (aero_model.inputs[0],   propulsion.inputs[0]),  # expose fuel-to-air ratio as control\n",
    "    (aero_model.inputs[1],   forces.inputs[4]),      # expose deflection as control\n",
    "    (dynamics.outputs,       aero_model.outputs),    # forward the 5 dynamic states as outputs\n",
    "    (propulsion.outputs[0],  forces.inputs[0]),      # Thrust -> forces\n",
    "    (dynamics.outputs[0],    atmosphere.inputs[0]),  # Height -> atmopshere model\n",
    "    (atmosphere.outputs[1],  forces.inputs[1]),      # Density  \n",
    "    (forces.outputs,         dynamics.inputs),       # Connect forces\n",
    "]"
   ]
  },
  {
   "cell_type": "markdown",
   "metadata": {
    "slideshow": {
     "slide_type": "subslide"
    }
   },
   "source": [
    "## Comments\n",
    "- `Composite` -> Modularity and reusability.\n",
    "- Symbolic backend is decoupled from model capture & analysis.\n",
    "- Easily able to incorporate existing libraries for extra functionality.\n",
    "- HSV Model is not yet complete - needs more components and loop closure (GNC).\n",
    "- `sysopt` in early stages: next phase is parameteric optimisation, followed by uncertainty propogation. "
   ]
  },
  {
   "cell_type": "markdown",
   "metadata": {
    "slideshow": {
     "slide_type": "subslide"
    }
   },
   "source": [
    "# Theory of Operation\n",
    "- A Model is represented by a directed acyclic graph (DAG)\n",
    "- Leaf Nodes are Constrained-Input-Output systems:\n",
    "$$\n",
    "\\begin{aligned}\n",
    "\\dot{x}_i  &= f_i(t, x_i, z_i, u_i, p)\\\\\n",
    "y_i &= g_i(t,x_i, z_i, u_i, p_i)\\\\\n",
    "0 &= h_i (t,x_i, z_i, u_i, p_i)\n",
    "\\end{aligned}\n",
    "$$\n",
    "- Trunk Nodes are algebraic constraints between $y$'s and $u$'s"
   ]
  },
  {
   "cell_type": "markdown",
   "metadata": {
    "slideshow": {
     "slide_type": "subslide"
    }
   },
   "source": [
    "### Example: Dynamics"
   ]
  },
  {
   "cell_type": "code",
   "execution_count": 50,
   "metadata": {
    "slideshow": {
     "slide_type": "-"
    }
   },
   "outputs": [
    {
     "name": "stdout",
     "output_type": "stream",
     "text": [
      "[p_0, p_1, p_2, p_3, p_4]\n"
     ]
    }
   ],
   "source": [
    "flattened_dynamics = backend.get_flattened_system(dynamics)\n",
    "print(flattened_dynamics) "
   ]
  },
  {
   "cell_type": "markdown",
   "metadata": {
    "slideshow": {
     "slide_type": "subslide"
    }
   },
   "source": [
    "### Example: Propulsion"
   ]
  },
  {
   "cell_type": "code",
   "execution_count": 52,
   "metadata": {
    "slideshow": {
     "slide_type": "-"
    }
   },
   "outputs": [
    {
     "name": "stdout",
     "output_type": "stream",
     "text": [
      "((((((p_0*u_0)+p_1)*(u_1*sq(u_1)))+(((p_2*u_0)+p_3)*sq(u_1)))+(((p_4*u_0)+p_5)*u_1))+((p_6*u_0)+p_7))\n"
     ]
    }
   ],
   "source": [
    "flattened_prop = backend.get_flattened_system(propulsion)\n",
    "print(flattened_prop.g)"
   ]
  },
  {
   "cell_type": "markdown",
   "metadata": {
    "slideshow": {
     "slide_type": "slide"
    }
   },
   "source": [
    "### Compostion via constraints\n",
    "For non-leaf nodes wires become algebraic constraints."
   ]
  },
  {
   "cell_type": "code",
   "execution_count": 13,
   "metadata": {
    "slideshow": {
     "slide_type": "-"
    }
   },
   "outputs": [
    {
     "name": "stdout",
     "output_type": "stream",
     "text": [
      "FlattenedSystem(X=SX([x_0, x_1, x_2, x_3, x_4]), Z=SX([u_0, u, u_1, u_0, u_1, u_2, u_3]), U=SX([u_0, u_4]), P=SX([p_0, p_1, p_2, p_3, p_4, p_0, p_1, p_2, p_3, p_4, p_5, p_6, p_7]), f=SX([(x_1*sin((x_3-x_2))), ((((u_0*cos(x_2))-u_2)/p_0)-(p_1*sin((x_3-x_2)))), ((x_4-(((u_0*sin(x_2))+u_1)/(p_0*x_1)))+((p_1/x_1)*cos((x_3-x_2)))), x_4, (u_3/p_2)]), g=SX([x_0, x_1, x_2, x_3, x_4]), h=SX([(u_0-((((((p_0*u_0)+p_1)*(u_1*sq(u_1)))+(((p_2*u_0)+p_3)*sq(u_1)))+(((p_4*u_0)+p_5)*u_1))+((p_6*u_0)+p_7))), (u-x_0), u_1, (u_0-u_0), u_1, u_2, u_3]), j=None, X0=SX(@1=0, [p_3, p_4, @1, @1, @1]))\n"
     ]
    }
   ],
   "source": [
    "flattened_model = backend.get_flattened_system(aero_model)\n",
    "print(flattened_model)"
   ]
  },
  {
   "cell_type": "code",
   "execution_count": 14,
   "metadata": {},
   "outputs": [
    {
     "name": "stdout",
     "output_type": "stream",
     "text": [
      "0 = (u_0-((((((p_0*u_0)+p_1)*(u_1*sq(u_1)))+(((p_2*u_0)+p_3)*sq(u_1)))+(((p_4*u_0)+p_5)*u_1))+((p_6*u_0)+p_7)))\n",
      "0 = (u-x_0)\n",
      "0 = u_1\n",
      "0 = (u_0-u_0)\n",
      "0 = u_1\n",
      "0 = u_2\n",
      "0 = u_3\n"
     ]
    }
   ],
   "source": [
    "# Constraints:\n",
    "print(\"\\n\".join([f\"0 = {flattened_model.h[i]}\" for i in range(flattened_model.h.shape[0])]))"
   ]
  },
  {
   "cell_type": "markdown",
   "metadata": {
    "slideshow": {
     "slide_type": "slide"
    }
   },
   "source": [
    "# Simulation Capabilities:\n",
    "\n",
    "Example system:\n",
    "\n",
    "\n",
    "Cosine Oscillator -> Gain -> 1-pole Lowpass Filter -> Output\n"
   ]
  },
  {
   "cell_type": "code",
   "execution_count": 15,
   "metadata": {},
   "outputs": [],
   "source": [
    "from sysopt.blocks.common import Gain, Oscillator, LowPassFilter\n",
    "osc = Oscillator()\n",
    "gain = Gain(channels=1)\n",
    "lpf = LowPassFilter()\n",
    "\n",
    "system = Composite()\n",
    "system.components = [osc, gain, lpf]\n",
    "system.wires = [\n",
    "    (osc.outputs, gain.inputs),\n",
    "    (gain.outputs, lpf.inputs),\n",
    "    (lpf.outputs, system.outputs)\n",
    "]\n"
   ]
  },
  {
   "cell_type": "markdown",
   "metadata": {
    "slideshow": {
     "slide_type": "subslide"
    }
   },
   "source": [
    "## Simulation Capabilities\n",
    "\n",
    "Cosine Oscillator -> Gain -> 1-pole Lowpass Filter -> Output\n",
    "\n",
    "Equations of motion: $\\dot{x} + \\gamma x = g \\cos(\\omega t + \\phi), \\qquad x(0) =0$\n",
    "\n",
    "Solution is $ x(t) =Ae^{-\\gamma t} + B\\sin(\\omega t + \\phi) + C \\cos(\\omega t + \\phi)$\n",
    "\n",
    "Where $B = \\frac{g\\omega}{\\gamma^2 + \\omega^2}, C = \\frac{g\\omega}{\\gamma^2 + \\omega^2}, A = 1 - B \\sin(\\phi) - C\\cos(\\phi)$"
   ]
  },
  {
   "cell_type": "code",
   "execution_count": 53,
   "metadata": {},
   "outputs": [
    {
     "name": "stdout",
     "output_type": "stream",
     "text": [
      "[p_0, p_1, p, p]\n"
     ]
    }
   ],
   "source": [
    "flattened_system = backend.get_flattened_system(system)\n",
    "\n",
    "y_parameterised = backend.integrator(flattened_system)\n",
    "\n",
    "print(flattened_system.P) # omega, phi, g, gamma\n",
    "parameters = [1, 0, 1, 1] "
   ]
  },
  {
   "cell_type": "markdown",
   "metadata": {
    "slideshow": {
     "slide_type": "slide"
    }
   },
   "source": [
    "## Numerical Solution"
   ]
  },
  {
   "cell_type": "code",
   "execution_count": 55,
   "metadata": {},
   "outputs": [
    {
     "data": {
      "text/plain": [
       "[<matplotlib.lines.Line2D at 0x13802bf70>]"
      ]
     },
     "execution_count": 55,
     "metadata": {},
     "output_type": "execute_result"
    },
    {
     "data": {
      "image/png": "[encoded data removed]",
      "text/plain": [
       "<Figure size 432x288 with 1 Axes>"
      ]
     },
     "metadata": {
      "needs_background": "light"
     },
     "output_type": "display_data"
    }
   ],
   "source": [
    "from numpy import linspace, pi\n",
    "import matplotlib.pyplot as plt\n",
    "\n",
    "T_max = 10\n",
    "parameters = [1, 0, 1, 1]\n",
    "y_path = y_parameterised(T_max, parameters)\n",
    "\n",
    "t = linspace(0, 7, 25)\n",
    "x_t = [float(y_path(t_i)) for t_i in t]\n",
    "plt.plot(t, x_t)"
   ]
  },
  {
   "cell_type": "markdown",
   "metadata": {
    "slideshow": {
     "slide_type": "subslide"
    }
   },
   "source": [
    "## Take-aways from this simple example\n",
    "\n",
    "- Parameterised models are simple to build an evaluate\n",
    "- Heirarchical models are flattened into something a solvers can work with.\n",
    "- System loop needs to be closed before simulating.\n",
    "- Can define whatever outputs you want."
   ]
  },
  {
   "cell_type": "markdown",
   "metadata": {
    "slideshow": {
     "slide_type": "subslide"
    }
   },
   "source": [
    "# Roadmap - Implementation\n",
    "1. Parametric optimisation\n",
    "2. Uncertainty propogation\n",
    "3. HSV modelling - key GNC blocks\n",
    "4. ROM algorithm integration\n",
    "5. Hybrid system building blocks (DAC, ADC and discrete clocks)?"
   ]
  },
  {
   "cell_type": "code",
   "execution_count": null,
   "metadata": {},
   "outputs": [],
   "source": []
  }
 ],
 "metadata": {
  "celltoolbar": "Slideshow",
  "kernelspec": {
   "display_name": "Python 3 (ipykernel)",
   "language": "python",
   "name": "python3"
  },
  "language_info": {
   "codemirror_mode": {
    "name": "ipython",
    "version": 3
   },
   "file_extension": ".py",
   "mimetype": "text/x-python",
   "name": "python",
   "nbconvert_exporter": "python",
   "pygments_lexer": "ipython3",
   "version": "3.9.10"
  }
 },
 "nbformat": 4,
 "nbformat_minor": 1
}