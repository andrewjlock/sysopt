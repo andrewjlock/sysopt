{
 "cells": [
  {
   "cell_type": "code",
   "execution_count": 1,
   "metadata": {
    "collapsed": true
   },
   "outputs": [],
   "source": [
    "import sympy as sp"
   ]
  },
  {
   "cell_type": "code",
   "execution_count": 37,
   "outputs": [],
   "source": [
    "t,a,b, k, w, lam  = sp.symbols(r't,a,b, k,w, \\lambda')\n",
    "# lam = sp.sqrt(w**2 - k)"
   ],
   "metadata": {
    "collapsed": false,
    "pycharm": {
     "name": "#%%\n"
    }
   }
  },
  {
   "cell_type": "code",
   "execution_count": 38,
   "outputs": [],
   "source": [
    "z = a * sp.cosh(lam * t) - a * sp.sinh(lam*t)\n",
    "dz = z.diff(t)"
   ],
   "metadata": {
    "collapsed": false,
    "pycharm": {
     "name": "#%%\n"
    }
   }
  },
  {
   "cell_type": "code",
   "execution_count": 39,
   "outputs": [],
   "source": [
    "j = z**2 + dz**2 + k**2 * z**2"
   ],
   "metadata": {
    "collapsed": false,
    "pycharm": {
     "name": "#%%\n"
    }
   }
  },
  {
   "cell_type": "code",
   "execution_count": 40,
   "outputs": [],
   "source": [
    "int_j = sp.integrate(j,t)\n",
    "R = int_j - int_j.subs(t, 0)"
   ],
   "metadata": {
    "collapsed": false,
    "pycharm": {
     "name": "#%%\n"
    }
   }
  },
  {
   "cell_type": "code",
   "execution_count": 44,
   "outputs": [
    {
     "data": {
      "text/plain": "k**2*(-a*sinh(\\lambda*t) + a*cosh(\\lambda*t))**2 + (-a*sinh(\\lambda*t) + a*cosh(\\lambda*t))**2 + (\\lambda*a*sinh(\\lambda*t) - \\lambda*a*cosh(\\lambda*t))**2",
      "text/latex": "$\\displaystyle k^{2} \\left(- a \\sinh{\\left(\\lambda t \\right)} + a \\cosh{\\left(\\lambda t \\right)}\\right)^{2} + \\left(- a \\sinh{\\left(\\lambda t \\right)} + a \\cosh{\\left(\\lambda t \\right)}\\right)^{2} + \\left(\\lambda a \\sinh{\\left(\\lambda t \\right)} - \\lambda a \\cosh{\\left(\\lambda t \\right)}\\right)^{2}$"
     },
     "execution_count": 44,
     "metadata": {},
     "output_type": "execute_result"
    }
   ],
   "source": [
    "j"
   ],
   "metadata": {
    "collapsed": false,
    "pycharm": {
     "name": "#%%\n"
    }
   }
  },
  {
   "cell_type": "code",
   "execution_count": 43,
   "outputs": [
    {
     "data": {
      "text/plain": "2*k*Piecewise((-a**2*sinh(\\lambda*t)**2/\\lambda + a**2*sinh(\\lambda*t)*cosh(\\lambda*t)/\\lambda, Ne(\\lambda, 0)), (a**2*t, True))",
      "text/latex": "$\\displaystyle 2 k \\left(\\begin{cases} - \\frac{a^{2} \\sinh^{2}{\\left(\\lambda t \\right)}}{\\lambda} + \\frac{a^{2} \\sinh{\\left(\\lambda t \\right)} \\cosh{\\left(\\lambda t \\right)}}{\\lambda} & \\text{for}\\: \\lambda \\neq 0 \\\\a^{2} t & \\text{otherwise} \\end{cases}\\right)$"
     },
     "execution_count": 43,
     "metadata": {},
     "output_type": "execute_result"
    }
   ],
   "source": [],
   "metadata": {
    "collapsed": false,
    "pycharm": {
     "name": "#%%\n"
    }
   }
  },
  {
   "cell_type": "code",
   "execution_count": null,
   "outputs": [],
   "source": [],
   "metadata": {
    "collapsed": false,
    "pycharm": {
     "name": "#%%\n"
    }
   }
  },
  {
   "cell_type": "code",
   "execution_count": null,
   "outputs": [],
   "source": [],
   "metadata": {
    "collapsed": false,
    "pycharm": {
     "name": "#%%\n"
    }
   }
  }
 ],
 "metadata": {
  "kernelspec": {
   "display_name": "Python 3",
   "language": "python",
   "name": "python3"
  },
  "language_info": {
   "codemirror_mode": {
    "name": "ipython",
    "version": 2
   },
   "file_extension": ".py",
   "mimetype": "text/x-python",
   "name": "python",
   "nbconvert_exporter": "python",
   "pygments_lexer": "ipython2",
   "version": "2.7.6"
  }
 },
 "nbformat": 4,
 "nbformat_minor": 0
}