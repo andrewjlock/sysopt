{
 "cells": [
  {
   "cell_type": "code",
   "execution_count": null,
   "metadata": {
    "collapsed": true
   },
   "outputs": [],
   "source": []
  },
  {
   "cell_type": "markdown",
   "source": [
    "# Problem Statement\n",
    "\n",
    "Define:\n",
    "- [Time] $t \\in [0, T] \\subset \\mathbb{R}_+$ be time.\n",
    "- [State] $x(t;\\cdot), u(t;\\cdot)$ be state variables (resp. continuous, non-differentiable) where $x(t) \\in X\\subset \\mathbb{R}^{n_x}, u(t)\\in U \\subset\\mathbb{R}^{n_u}$.\n",
    "- [Parameters] $p, q$ be a set of design parameters with $p\\in P \\subset \\mathbb{R}^{n_p}, q \\in Q \\subset\\mathbb{R}^{n_q}$\n",
    "- [Dynamics] $f: X \\times U \\times P \\times Q \\rightarrow TX \\subset\\mathbb{R}^{n_x}$ be a smooth vector field.\n",
    "- [Control] $g: X \\times P \\times Q \\rightarrow Y$ be a function, not-necessarily differentiable but computationally 'cheap' to evaluate.\n",
    "- [Constraints] $h: X \\times U \\times P\\times Q \\rightarrow \\mathbb{R}^{n_c}$\n",
    "- [Loss] $\\phi: X \\times U \\times P \\times Q \\rightarrow \\mathbb{R}_+ $ be a continuous function bounded below (w.log by $0$).\n",
    "\n",
    "We use the following shorthand: $x = x(t;p,q)$ (similarly with $u$) $x(T) = x(T;p,q)$ and $\\phi(p,q) = \\phi(x(T), u(T); p,q)$.\n",
    "\n",
    "### [Problem 1] Dynamic Optimisation\n",
    "\n",
    "$$\n",
    "\\begin{align}\n",
    "\\min_{p\\in P ,q \\in Q } &&\\phi(x(T), u(T); p,q)&&&\\\\\n",
    "\\text{s.t.}&\n",
    "& \\dot{x} =& f(x,u; p,q), &&\\\\\n",
    "&& u  = & g(x; p, q),&& \\\\\n",
    "&& h_i(x,u;p,q) \\le& 0 && i \\in 1,\\ldots, n_c\\\\\n",
    "&&x\\in&X,&&\\\\\n",
    "&&u\\in&U.&&\n",
    "\\end{align}\n",
    "$$\n",
    "\n",
    "#### Comments\n",
    "- Integral loss $J = \\int_0^T j(x,u;p,q)dt$ or constraints can be incorporated by adding additional state variables $x_J$ such that $\\dot{x}_J = j(x,u;p,q)$\n",
    "- Loss as a function of time $T$ can be similarly handled."
   ],
   "metadata": {
    "collapsed": false
   }
  },
  {
   "cell_type": "markdown",
   "source": [
    "## Computational Expense and Black Box Optimisation\n",
    "\n",
    "Suppose that one has a candidate pair $(p,q)_0$ that solve problem 1.\n",
    "One wishes to find a sequence $(p,q)_0,(p,q)_1,\\ldots (p,q)_k$ such that $\\phi(p_k,q_k) < \\phi(p_{k-1},q_{k-1})$\n",
    "\n",
    "The challenge is as follows:\n",
    "- Given $p_k,q_k$ and $\\phi(p_k,q_k)$, computing $\\phi(p_{k + 1}, q_k)$ is much 'cheaper' than computing $\\phi(p_k, q_{k+1})$\n",
    "- The problem is not necessarily differentiable (eg, $g$ is a bang-bang controller), nor convex.\n",
    "\n"
   ],
   "metadata": {
    "collapsed": false,
    "pycharm": {
     "name": "#%% md\n"
    }
   }
  },
  {
   "cell_type": "markdown",
   "source": [],
   "metadata": {
    "collapsed": false,
    "pycharm": {
     "name": "#%% md\n"
    }
   }
  },
  {
   "cell_type": "code",
   "execution_count": 1,
   "outputs": [
    {
     "data": {
      "text/plain": "b*Derivative(x(t), t) - l*m*sin(\\theta(t))*Derivative(\\theta(t), t)**2 + l*m*cos(\\theta(t))*Derivative(\\theta(t), (t, 2)) - u + (M_c + m)*Derivative(x(t), (t, 2))",
      "text/latex": "$\\displaystyle b \\frac{d}{d t} x{\\left(t \\right)} - l m \\sin{\\left(\\theta{\\left(t \\right)} \\right)} \\left(\\frac{d}{d t} \\theta{\\left(t \\right)}\\right)^{2} + l m \\cos{\\left(\\theta{\\left(t \\right)} \\right)} \\frac{d^{2}}{d t^{2}} \\theta{\\left(t \\right)} - u + \\left(M_{c} + m\\right) \\frac{d^{2}}{d t^{2}} x{\\left(t \\right)}$"
     },
     "execution_count": 1,
     "metadata": {},
     "output_type": "execute_result"
    }
   ],
   "source": [],
   "metadata": {
    "collapsed": false,
    "pycharm": {
     "name": "#%%\n"
    }
   }
  },
  {
   "cell_type": "code",
   "execution_count": 2,
   "outputs": [
    {
     "data": {
      "text/plain": "-g*l**2*m**2*sin(2*\\theta(t))/2 - l*m*(I + l**2*m)*sin(\\theta(t))*Derivative(\\theta(t), t)**2 + u*(-I - l**2*m) + (I*b + b*l**2*m)*Derivative(x(t), t) + (I*M_c + I*m + M_c*l**2*m + l**2*m**2*sin(\\theta(t))**2)*Derivative(x(t), (t, 2))",
      "text/latex": "$\\displaystyle - \\frac{g l^{2} m^{2} \\sin{\\left(2 \\theta{\\left(t \\right)} \\right)}}{2} - l m \\left(I + l^{2} m\\right) \\sin{\\left(\\theta{\\left(t \\right)} \\right)} \\left(\\frac{d}{d t} \\theta{\\left(t \\right)}\\right)^{2} + u \\left(- I - l^{2} m\\right) + \\left(I b + b l^{2} m\\right) \\frac{d}{d t} x{\\left(t \\right)} + \\left(I M_{c} + I m + M_{c} l^{2} m + l^{2} m^{2} \\sin^{2}{\\left(\\theta{\\left(t \\right)} \\right)}\\right) \\frac{d^{2}}{d t^{2}} x{\\left(t \\right)}$"
     },
     "execution_count": 2,
     "metadata": {},
     "output_type": "execute_result"
    }
   ],
   "source": [],
   "metadata": {
    "collapsed": false,
    "pycharm": {
     "name": "#%%\n"
    }
   }
  },
  {
   "cell_type": "code",
   "execution_count": 3,
   "outputs": [
    {
     "data": {
      "text/plain": "g*l**2*m**2*sin(2*\\theta(t))/2 + u*(I + l**2*m) + (-I*b - b*l**2*m)*Derivative(x(t), t) + (I*l*m*sin(\\theta(t)) + l**3*m**2*sin(\\theta(t)))*Derivative(\\theta(t), t)**2",
      "text/latex": "$\\displaystyle \\frac{g l^{2} m^{2} \\sin{\\left(2 \\theta{\\left(t \\right)} \\right)}}{2} + u \\left(I + l^{2} m\\right) + \\left(- I b - b l^{2} m\\right) \\frac{d}{d t} x{\\left(t \\right)} + \\left(I l m \\sin{\\left(\\theta{\\left(t \\right)} \\right)} + l^{3} m^{2} \\sin{\\left(\\theta{\\left(t \\right)} \\right)}\\right) \\left(\\frac{d}{d t} \\theta{\\left(t \\right)}\\right)^{2}$"
     },
     "execution_count": 3,
     "metadata": {},
     "output_type": "execute_result"
    }
   ],
   "source": [],
   "metadata": {
    "collapsed": false,
    "pycharm": {
     "name": "#%%\n"
    }
   }
  },
  {
   "cell_type": "code",
   "execution_count": 4,
   "outputs": [
    {
     "data": {
      "text/plain": "I*M_c + I*m + M_c*l**2*m + l**2*m**2*sin(\\theta(t))**2",
      "text/latex": "$\\displaystyle I M_{c} + I m + M_{c} l^{2} m + l^{2} m^{2} \\sin^{2}{\\left(\\theta{\\left(t \\right)} \\right)}$"
     },
     "execution_count": 4,
     "metadata": {},
     "output_type": "execute_result"
    }
   ],
   "source": [],
   "metadata": {
    "collapsed": false,
    "pycharm": {
     "name": "#%%\n"
    }
   }
  },
  {
   "cell_type": "code",
   "execution_count": 5,
   "outputs": [
    {
     "data": {
      "text/plain": "(-g*l*m*(I*M_c + I*m + M_c*l**2*m + l**2*m**2*sin(\\theta(t))**2)*sin(\\theta(t)) - l*m*(g*l**2*m**2*sin(2*\\theta(t))/2 + u*(I + l**2*m) + (-I*b - b*l**2*m)*Derivative(x(t), t) + (I*l*m*sin(\\theta(t)) + l**3*m**2*sin(\\theta(t)))*Derivative(\\theta(t), t)**2)*cos(\\theta(t)))/(I + l**2*m)",
      "text/latex": "$\\displaystyle \\frac{- g l m \\left(I M_{c} + I m + M_{c} l^{2} m + l^{2} m^{2} \\sin^{2}{\\left(\\theta{\\left(t \\right)} \\right)}\\right) \\sin{\\left(\\theta{\\left(t \\right)} \\right)} - l m \\left(\\frac{g l^{2} m^{2} \\sin{\\left(2 \\theta{\\left(t \\right)} \\right)}}{2} + u \\left(I + l^{2} m\\right) + \\left(- I b - b l^{2} m\\right) \\frac{d}{d t} x{\\left(t \\right)} + \\left(I l m \\sin{\\left(\\theta{\\left(t \\right)} \\right)} + l^{3} m^{2} \\sin{\\left(\\theta{\\left(t \\right)} \\right)}\\right) \\left(\\frac{d}{d t} \\theta{\\left(t \\right)}\\right)^{2}\\right) \\cos{\\left(\\theta{\\left(t \\right)} \\right)}}{I + l^{2} m}$"
     },
     "execution_count": 5,
     "metadata": {},
     "output_type": "execute_result"
    }
   ],
   "source": [
    "\n"
   ],
   "metadata": {
    "collapsed": false,
    "pycharm": {
     "name": "#%%\n"
    }
   }
  },
  {
   "cell_type": "code",
   "execution_count": 6,
   "outputs": [
    {
     "data": {
      "text/plain": "[0, 0]"
     },
     "execution_count": 6,
     "metadata": {},
     "output_type": "execute_result"
    }
   ],
   "source": [
    "test_subs = [\n",
    "    (ddtheta, f_dtheta / r),\n",
    "    (ddx,  f_dx / r)\n",
    "]\n",
    "residue = [eqn.subs(test_subs) for eqn in dynamics]\n",
    "residue = [(r * r_i).expand().simplify() for r_i in residue]\n",
    "residue\n",
    "# if result is (0,0) -> equations are correct"
   ],
   "metadata": {
    "collapsed": false,
    "pycharm": {
     "name": "#%%\n"
    }
   }
  },
  {
   "cell_type": "code",
   "execution_count": 7,
   "outputs": [],
   "source": [
    "# r[ddx, ddtheta] = [f_dx, f_dtheta]\n",
    "\n",
    "# Key substitutions\n",
    "c  = sp.symbols('c:3', positive=True)\n",
    "subs = [\n",
    "    (I, c[0] - m * l * l),   # c[0] = I + m l^2\n",
    "    (l, c[1] / m),           # c[1] = lm\n",
    "    (m, c[2] - M_c)            # c[2] = M_c + m\n",
    "]\n",
    "\n",
    "\n",
    "r = sp.trigsimp(sp.expand(r.subs(subs)))\n",
    "f_dtheta = sp.simplify(sp.expand_trig(sp.simplify(sp.expand(f_dtheta.subs(subs))))).expand()\n",
    "f_dx = sp.simplify(sp.expand_trig(sp.expand(f_dx.subs(subs))))\n",
    "\n",
    "X_old = (dx, dtheta, x, theta)\n",
    "X_list = sp.symbols('x:4')\n",
    "subs_X = [(x_i, X_i) for x_i, X_i in zip(X_old,X_list)]\n",
    "X = sp.Matrix(X_list)\n",
    "G = sp.Matrix([f_dx.coeff(u)/c[0], f_dtheta.coeff(u)/c[1], 0,0]).subs(subs_X)\n",
    "F = sp.Matrix([\n",
    "    sp.simplify(f_dx/c[0] - G[0]*u),\n",
    "    sp.simplify(f_dtheta/c[1] - G[1]*u),\n",
    "    dx,\n",
    "    dtheta\n",
    "]).subs(subs_X)\n",
    "M = sp.diag(r/c[0],r/c[1],1,1).subs(subs_X)\n",
    "Q = sp.eye(4)\n",
    "R = 1\n",
    "X_0 = sp.Matrix([0,sp.pi, 0, 0])\n",
    "phi = sp.Matrix(list(sp.symbols(r'\\lambda_:4')))"
   ],
   "metadata": {
    "collapsed": false,
    "pycharm": {
     "name": "#%%\n"
    }
   }
  },
  {
   "cell_type": "code",
   "execution_count": 8,
   "outputs": [],
   "source": [
    "d_star = [(d.subs(subs)).expand() for d in dynamics]\n",
    "d_star[0] = d_star[0].subs(ddtheta, (ddtheta -  d_star[1]/c[0]).expand()).expand().collect([ddx,dx,dtheta])\n",
    "u_d = sp.symbols('u_d')\n",
    "factor = d_star[0].coeff(ddx)\n",
    "u_subs = u_d * d_star[0].coeff(ddx) + (d_star[0] - ddx * d_star[0].coeff(ddx) + u)\n",
    "d_star[0] = (d_star[0].subs(u, u_subs)/factor).cancel()\n",
    "d_star[1] = (d_star[1].subs(ddx, ddx - d_star[0])/c[0]).expand()"
   ],
   "metadata": {
    "collapsed": false,
    "pycharm": {
     "name": "#%%\n"
    }
   }
  },
  {
   "cell_type": "code",
   "execution_count": 9,
   "outputs": [
    {
     "data": {
      "text/plain": "-u_d + Derivative(x(t), (t, 2))",
      "text/latex": "$\\displaystyle - u_{d} + \\frac{d^{2}}{d t^{2}} x{\\left(t \\right)}$"
     },
     "execution_count": 9,
     "metadata": {},
     "output_type": "execute_result"
    }
   ],
   "source": [
    "d_star[0]"
   ],
   "metadata": {
    "collapsed": false,
    "pycharm": {
     "name": "#%%\n"
    }
   }
  },
  {
   "cell_type": "code",
   "execution_count": 10,
   "outputs": [
    {
     "data": {
      "text/plain": "Derivative(\\theta(t), (t, 2)) + c1*g*sin(\\theta(t))/c0 + c1*u_d*cos(\\theta(t))/c0",
      "text/latex": "$\\displaystyle \\frac{d^{2}}{d t^{2}} \\theta{\\left(t \\right)} + \\frac{c_{1} g \\sin{\\left(\\theta{\\left(t \\right)} \\right)}}{c_{0}} + \\frac{c_{1} u_{d} \\cos{\\left(\\theta{\\left(t \\right)} \\right)}}{c_{0}}$"
     },
     "execution_count": 10,
     "metadata": {},
     "output_type": "execute_result"
    }
   ],
   "source": [
    "d_star[1]"
   ],
   "metadata": {
    "collapsed": false,
    "pycharm": {
     "name": "#%%\n"
    }
   }
  },
  {
   "cell_type": "code",
   "execution_count": 18,
   "outputs": [],
   "source": [
    "E = c[0] * (dtheta**2)/2 - c[1] * g *(  sp.cos(theta) - 1)\n",
    "k = sp.symbols(\"k:3\")\n",
    "u_ff = k[0]*dtheta*sp.cos(theta) * E - k[1]*x - k[2]*dx"
   ],
   "metadata": {
    "collapsed": false,
    "pycharm": {
     "name": "#%%\n"
    }
   }
  },
  {
   "cell_type": "markdown",
   "source": [],
   "metadata": {
    "collapsed": false
   }
  },
  {
   "cell_type": "code",
   "execution_count": 25,
   "outputs": [
    {
     "data": {
      "text/plain": "b*x0 + c0*c2*k0*x1**3*cos(x3)/2 - c1**2*k0*x1**3*cos(x3)**3/2 - c1*c2*g*k0*x1*cos(x3)**2 + c1*c2*g*k0*x1*cos(x3) - c1*x1**2*sin(x3) - c2*k1*x2 - c2*k2*x0 + c1**3*g*k0*x1*cos(x3)**4/c0 - c1**3*g*k0*x1*cos(x3)**3/c0 - c1**2*g*sin(2*x3)/(2*c0) + c1**2*k1*x2*cos(x3)**2/c0 + c1**2*k2*x0*cos(x3)**2/c0",
      "text/latex": "$\\displaystyle b x_{0} + \\frac{c_{0} c_{2} k_{0} x_{1}^{3} \\cos{\\left(x_{3} \\right)}}{2} - \\frac{c_{1}^{2} k_{0} x_{1}^{3} \\cos^{3}{\\left(x_{3} \\right)}}{2} - c_{1} c_{2} g k_{0} x_{1} \\cos^{2}{\\left(x_{3} \\right)} + c_{1} c_{2} g k_{0} x_{1} \\cos{\\left(x_{3} \\right)} - c_{1} x_{1}^{2} \\sin{\\left(x_{3} \\right)} - c_{2} k_{1} x_{2} - c_{2} k_{2} x_{0} + \\frac{c_{1}^{3} g k_{0} x_{1} \\cos^{4}{\\left(x_{3} \\right)}}{c_{0}} - \\frac{c_{1}^{3} g k_{0} x_{1} \\cos^{3}{\\left(x_{3} \\right)}}{c_{0}} - \\frac{c_{1}^{2} g \\sin{\\left(2 x_{3} \\right)}}{2 c_{0}} + \\frac{c_{1}^{2} k_{1} x_{2} \\cos^{2}{\\left(x_{3} \\right)}}{c_{0}} + \\frac{c_{1}^{2} k_{2} x_{0} \\cos^{2}{\\left(x_{3} \\right)}}{c_{0}}$"
     },
     "execution_count": 25,
     "metadata": {},
     "output_type": "execute_result"
    }
   ],
   "source": [
    "u_final = u_subs.subs(u_d, u_ff).simplify()\n",
    "ux = u_final.subs(subs_X)\n",
    "ux.expand()"
   ],
   "metadata": {
    "collapsed": false,
    "pycharm": {
     "name": "#%%\n"
    }
   }
  },
  {
   "cell_type": "code",
   "execution_count": 20,
   "outputs": [
    {
     "data": {
      "text/plain": "Matrix([\n[-b*x0 + c1*x1**2*sin(x3) + c1**2*g*sin(2*x3)/(2*c0)],\n[ b*x0*cos(x3) - c1*x1**2*sin(2*x3)/2 - c2*g*sin(x3)],\n[                                                 x0],\n[                                                 x1]])",
      "text/latex": "$\\displaystyle \\left[\\begin{matrix}- b x_{0} + c_{1} x_{1}^{2} \\sin{\\left(x_{3} \\right)} + \\frac{c_{1}^{2} g \\sin{\\left(2 x_{3} \\right)}}{2 c_{0}}\\\\b x_{0} \\cos{\\left(x_{3} \\right)} - \\frac{c_{1} x_{1}^{2} \\sin{\\left(2 x_{3} \\right)}}{2} - c_{2} g \\sin{\\left(x_{3} \\right)}\\\\x_{0}\\\\x_{1}\\end{matrix}\\right]$"
     },
     "execution_count": 20,
     "metadata": {},
     "output_type": "execute_result"
    }
   ],
   "source": [
    "F"
   ],
   "metadata": {
    "collapsed": false,
    "pycharm": {
     "name": "#%%\n"
    }
   }
  },
  {
   "cell_type": "code",
   "execution_count": 21,
   "outputs": [
    {
     "data": {
      "text/plain": "Matrix([\n[       1],\n[-cos(x3)],\n[       0],\n[       0]])",
      "text/latex": "$\\displaystyle \\left[\\begin{matrix}1\\\\- \\cos{\\left(x_{3} \\right)}\\\\0\\\\0\\end{matrix}\\right]$"
     },
     "execution_count": 21,
     "metadata": {},
     "output_type": "execute_result"
    }
   ],
   "source": [],
   "metadata": {
    "collapsed": false,
    "pycharm": {
     "name": "#%%\n"
    }
   }
  },
  {
   "cell_type": "code",
   "execution_count": null,
   "outputs": [],
   "source": [],
   "metadata": {
    "collapsed": false,
    "pycharm": {
     "name": "#%%\n"
    }
   }
  }
 ],
 "metadata": {
  "kernelspec": {
   "display_name": "Python 3",
   "language": "python",
   "name": "python3"
  },
  "language_info": {
   "codemirror_mode": {
    "name": "ipython",
    "version": 2
   },
   "file_extension": ".py",
   "mimetype": "text/x-python",
   "name": "python",
   "nbconvert_exporter": "python",
   "pygments_lexer": "ipython2",
   "version": "2.7.6"
  }
 },
 "nbformat": 4,
 "nbformat_minor": 0
}