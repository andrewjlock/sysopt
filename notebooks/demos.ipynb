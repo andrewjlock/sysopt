{
 "cells": [
  {
   "cell_type": "markdown",
   "metadata": {
    "pycharm": {
     "name": "#%% md\n"
    }
   },
   "source": [
    "\n",
    "To Do:\n",
    "1. Integrate the problem for a fixed set of parameters\n",
    "2. Plot the trajectory\n",
    "3. Parameterise the path\n",
    "4. Work out bounds on parameters\n",
    "5. Run DIRECT over it.\n"
   ]
  },
  {
   "cell_type": "code",
   "execution_count": 237,
   "metadata": {
    "pycharm": {
     "name": "#%%\n"
    }
   },
   "outputs": [
    {
     "data": {
      "text/latex": [
       "$\\displaystyle \\left[\\begin{matrix}\\ddot{\\theta} c_{1} \\cos{\\left(\\theta \\right)} + \\ddot{x} c_{2} - \\dot{\\theta}^{2} c_{1} \\sin{\\left(\\theta \\right)} + \\dot{x} c_{3} - u\\\\\\ddot{\\theta} c_{0} + \\ddot{x} c_{1} \\cos{\\left(\\theta \\right)} + c_{1} g \\sin{\\left(\\theta \\right)}\\end{matrix}\\right]$"
      ],
      "text/plain": [
       "Matrix([\n",
       "[\\ddot{\\theta}*c1*cos(\\theta) + \\ddot{x}*c2 - \\dot{\\theta}**2*c1*sin(\\theta) + \\dot{x}*c3 - u],\n",
       "[                               \\ddot{\\theta}*c0 + \\ddot{x}*c1*cos(\\theta) + c1*g*sin(\\theta)]])"
      ]
     },
     "execution_count": 237,
     "metadata": {},
     "output_type": "execute_result"
    }
   ],
   "source": [
    "import sympy as sp\n",
    "import numpy as np\n",
    "\n",
    "x, dx, ddx = sp.symbols(r'x,\\dot{x},\\ddot{x}', real=True)\n",
    "theta, dtheta, ddtheta = sp.symbols(r'\\theta,\\dot{\\theta},\\ddot{\\theta}', real=True)\n",
    "u = sp.symbols('u', real=True)\n",
    "M_c, I, m, b, l, g = sp.symbols('M_c, I , m, b, l, g', real=True, positive=True)\n",
    "\n",
    "c  = sp.symbols('c:4', positive=True)\n",
    "subs = [\n",
    "    (I, c[0] - m * l * l),   # c[0] = I + m l^2\n",
    "    (l, c[1] / m),           # c[1] = lm\n",
    "    (m, c[2] - M_c),          # c[2] = M_c + m\n",
    "    (b, c[3]),\n",
    "]\n",
    "\n",
    "dynamics = [\n",
    "    (M_c + m) * ddx + b*dx + m*l*ddtheta *sp.cos(theta) - m*l*sp.sin(theta) * dtheta**2 - u,\n",
    "    (I +m*l*l) * ddtheta +m*g*l *sp.sin(theta) +m*l*ddx*sp.cos(theta)\n",
    "]\n",
    "dynamics = sp.Matrix([d.subs(subs).expand() for d in dynamics])\n",
    "dynamics"
   ]
  },
  {
   "cell_type": "code",
   "execution_count": 212,
   "metadata": {
    "pycharm": {
     "name": "#%%\n"
    }
   },
   "outputs": [],
   "source": [
    "# Dynamics\n",
    "# M(x) dotx = F(x) + G(x)u\n",
    "#\n",
    "\n",
    "DX = sp.Matrix([ddx, ddtheta, dx, dtheta])\n",
    "X = sp.Matrix([dx,dtheta, x, theta])\n",
    "M = sp.Matrix([[d.coeff(x_i) for x_i in DX] for d in dynamics] +[[0,0,1,0], [0, 0, 0, 1] ] )\n",
    "G = sp.Matrix([-d.coeff(u) for d in dynamics] + [0, 0])\n",
    "F = sp.Matrix([-d for d in dynamics] + [0, 0]) - G * u + M @ DX\n",
    "# We have M @ DX - F - Gu = 0 - > M @ DX = F + Gu\n",
    "\n"
   ]
  },
  {
   "cell_type": "code",
   "execution_count": 238,
   "metadata": {
    "pycharm": {
     "name": "#%%\n"
    }
   },
   "outputs": [
    {
     "data": {
      "text/latex": [
       "$\\displaystyle \\left[\\begin{matrix}- \\frac{\\dot{x} c_{0} c_{3}}{c_{0} c_{2} - c_{1}^{2} \\cos^{2}{\\left(\\theta \\right)}} + \\frac{c_{0} \\left(\\dot{\\theta}^{2} c_{1} \\sin{\\left(\\theta \\right)} + u\\right)}{c_{0} c_{2} - c_{1}^{2} \\cos^{2}{\\left(\\theta \\right)}} + \\frac{c_{1}^{2} g \\sin{\\left(\\theta \\right)} \\cos{\\left(\\theta \\right)}}{c_{0} c_{2} - c_{1}^{2} \\cos^{2}{\\left(\\theta \\right)}}\\\\\\frac{\\dot{x} c_{1} c_{3} \\cos{\\left(\\theta \\right)}}{c_{0} c_{2} - c_{1}^{2} \\cos^{2}{\\left(\\theta \\right)}} - \\frac{c_{1} c_{2} g \\sin{\\left(\\theta \\right)}}{c_{0} c_{2} - c_{1}^{2} \\cos^{2}{\\left(\\theta \\right)}} - \\frac{c_{1} \\left(\\dot{\\theta}^{2} c_{1} \\sin{\\left(\\theta \\right)} + u\\right) \\cos{\\left(\\theta \\right)}}{c_{0} c_{2} - c_{1}^{2} \\cos^{2}{\\left(\\theta \\right)}}\\\\\\dot{x}\\\\\\dot{\\theta}\\end{matrix}\\right]$"
      ],
      "text/plain": [
       "Matrix([\n",
       "[           -\\dot{x}*c0*c3/(c0*c2 - c1**2*cos(\\theta)**2) + c0*(\\dot{\\theta}**2*c1*sin(\\theta) + u)/(c0*c2 - c1**2*cos(\\theta)**2) + c1**2*g*sin(\\theta)*cos(\\theta)/(c0*c2 - c1**2*cos(\\theta)**2)],\n",
       "[\\dot{x}*c1*c3*cos(\\theta)/(c0*c2 - c1**2*cos(\\theta)**2) - c1*c2*g*sin(\\theta)/(c0*c2 - c1**2*cos(\\theta)**2) - c1*(\\dot{\\theta}**2*c1*sin(\\theta) + u)*cos(\\theta)/(c0*c2 - c1**2*cos(\\theta)**2)],\n",
       "[                                                                                                                                                                                           \\dot{x}],\n",
       "[                                                                                                                                                                                      \\dot{\\theta}]])"
      ]
     },
     "execution_count": 238,
     "metadata": {},
     "output_type": "execute_result"
    }
   ],
   "source": [
    "M.inv() @  (F + G*u)"
   ]
  },
  {
   "cell_type": "code",
   "execution_count": 1,
   "metadata": {
    "pycharm": {
     "name": "#%%\n"
    }
   },
   "outputs": [
    {
     "ename": "NameError",
     "evalue": "name 'dynamics' is not defined",
     "output_type": "error",
     "traceback": [
      "\u001B[0;31m---------------------------------------------------------------------------\u001B[0m",
      "\u001B[0;31mNameError\u001B[0m                                 Traceback (most recent call last)",
      "\u001B[0;32m/var/folders/5_/85y8q52s64v5_lwc79g37b_80000gp/T/ipykernel_10811/539263820.py\u001B[0m in \u001B[0;36m<module>\u001B[0;34m\u001B[0m\n\u001B[1;32m      1\u001B[0m \u001B[0;31m# controller\u001B[0m\u001B[0;34m\u001B[0m\u001B[0;34m\u001B[0m\u001B[0m\n\u001B[0;32m----> 2\u001B[0;31m \u001B[0md_star\u001B[0m \u001B[0;34m=\u001B[0m \u001B[0;34m[\u001B[0m\u001B[0md\u001B[0m \u001B[0;32mfor\u001B[0m \u001B[0md\u001B[0m \u001B[0;32min\u001B[0m \u001B[0mdynamics\u001B[0m\u001B[0;34m]\u001B[0m\u001B[0;34m\u001B[0m\u001B[0;34m\u001B[0m\u001B[0m\n\u001B[0m\u001B[1;32m      3\u001B[0m \u001B[0md_star\u001B[0m\u001B[0;34m[\u001B[0m\u001B[0;36m0\u001B[0m\u001B[0;34m]\u001B[0m \u001B[0;34m=\u001B[0m \u001B[0md_star\u001B[0m\u001B[0;34m[\u001B[0m\u001B[0;36m0\u001B[0m\u001B[0;34m]\u001B[0m\u001B[0;34m.\u001B[0m\u001B[0msubs\u001B[0m\u001B[0;34m(\u001B[0m\u001B[0mddtheta\u001B[0m\u001B[0;34m,\u001B[0m \u001B[0;34m(\u001B[0m\u001B[0mddtheta\u001B[0m \u001B[0;34m-\u001B[0m  \u001B[0md_star\u001B[0m\u001B[0;34m[\u001B[0m\u001B[0;36m1\u001B[0m\u001B[0;34m]\u001B[0m\u001B[0;34m/\u001B[0m\u001B[0mc\u001B[0m\u001B[0;34m[\u001B[0m\u001B[0;36m0\u001B[0m\u001B[0;34m]\u001B[0m\u001B[0;34m)\u001B[0m\u001B[0;34m.\u001B[0m\u001B[0mexpand\u001B[0m\u001B[0;34m(\u001B[0m\u001B[0;34m)\u001B[0m\u001B[0;34m)\u001B[0m\u001B[0;34m.\u001B[0m\u001B[0mexpand\u001B[0m\u001B[0;34m(\u001B[0m\u001B[0;34m)\u001B[0m\u001B[0;34m.\u001B[0m\u001B[0mcollect\u001B[0m\u001B[0;34m(\u001B[0m\u001B[0;34m[\u001B[0m\u001B[0mddx\u001B[0m\u001B[0;34m,\u001B[0m\u001B[0mdx\u001B[0m\u001B[0;34m,\u001B[0m\u001B[0mdtheta\u001B[0m\u001B[0;34m]\u001B[0m\u001B[0;34m)\u001B[0m\u001B[0;34m\u001B[0m\u001B[0;34m\u001B[0m\u001B[0m\n\u001B[1;32m      4\u001B[0m \u001B[0mu_d\u001B[0m \u001B[0;34m=\u001B[0m \u001B[0msp\u001B[0m\u001B[0;34m.\u001B[0m\u001B[0msymbols\u001B[0m\u001B[0;34m(\u001B[0m\u001B[0;34m'u_d'\u001B[0m\u001B[0;34m)\u001B[0m\u001B[0;34m\u001B[0m\u001B[0;34m\u001B[0m\u001B[0m\n\u001B[1;32m      5\u001B[0m \u001B[0mfactor\u001B[0m \u001B[0;34m=\u001B[0m \u001B[0md_star\u001B[0m\u001B[0;34m[\u001B[0m\u001B[0;36m0\u001B[0m\u001B[0;34m]\u001B[0m\u001B[0;34m.\u001B[0m\u001B[0mcoeff\u001B[0m\u001B[0;34m(\u001B[0m\u001B[0mddx\u001B[0m\u001B[0;34m)\u001B[0m\u001B[0;34m\u001B[0m\u001B[0;34m\u001B[0m\u001B[0m\n",
      "\u001B[0;31mNameError\u001B[0m: name 'dynamics' is not defined"
     ]
    }
   ],
   "source": [
    "# controller\n",
    "d_star = [d for d in dynamics]\n",
    "d_star[0] = d_star[0].subs(ddtheta, (ddtheta -  d_star[1]/c[0]).expand()).expand().collect([ddx,dx,dtheta])\n",
    "u_d = sp.symbols('u_d')\n",
    "factor = d_star[0].coeff(ddx)\n",
    "u_subs = u_d * d_star[0].coeff(ddx) + (d_star[0] - ddx * d_star[0].coeff(ddx) + u)\n",
    "d_star[0] = (d_star[0].subs(u, u_subs)/factor).cancel()\n",
    "d_star[1] = (d_star[1].subs(ddx, ddx - d_star[0])/c[0]).expand()\n",
    "k = sp.symbols(\"k:3\", positive=True)\n",
    "E = c[0] * (dtheta**2)/2  - c[1] * g *(sp.cos(theta))\n",
    "\n",
    "u_ff = k[0]*dtheta*sp.cos(theta) * E - k[1]*x - k[2]*dx\n",
    "u_final = u_subs.subs(u_d, u_ff).simplify()\n",
    "u_final.collect(X)\n",
    "d_star[0]"
   ]
  },
  {
   "cell_type": "code",
   "execution_count": 271,
   "metadata": {
    "pycharm": {
     "name": "#%%\n"
    }
   },
   "outputs": [
    {
     "data": {
      "text/latex": [
       "$\\displaystyle \\ddot{\\theta} + \\frac{c_{1} g \\sin{\\left(\\theta \\right)}}{c_{0}} + \\frac{c_{1} u_{d} \\cos{\\left(\\theta \\right)}}{c_{0}}$"
      ],
      "text/plain": [
       "\\ddot{\\theta} + c1*g*sin(\\theta)/c0 + c1*u_d*cos(\\theta)/c0"
      ]
     },
     "execution_count": 271,
     "metadata": {},
     "output_type": "execute_result"
    }
   ],
   "source": [
    "d_star[1]"
   ]
  },
  {
   "cell_type": "code",
   "execution_count": 272,
   "metadata": {},
   "outputs": [
    {
     "data": {
      "text/latex": [
       "$\\displaystyle - \\dot{\\theta}^{2} c_{1} \\sin{\\left(\\theta \\right)} + \\dot{x} c_{3} + u_{d} \\left(c_{2} - \\frac{c_{1}^{2} \\cos^{2}{\\left(\\theta \\right)}}{c_{0}}\\right) - \\frac{c_{1}^{2} g \\sin{\\left(\\theta \\right)} \\cos{\\left(\\theta \\right)}}{c_{0}}$"
      ],
      "text/plain": [
       "-\\dot{\\theta}**2*c1*sin(\\theta) + \\dot{x}*c3 + u_d*(c2 - c1**2*cos(\\theta)**2/c0) - c1**2*g*sin(\\theta)*cos(\\theta)/c0"
      ]
     },
     "execution_count": 272,
     "metadata": {},
     "output_type": "execute_result"
    }
   ],
   "source": [
    "u_subs"
   ]
  },
  {
   "cell_type": "code",
   "execution_count": 273,
   "metadata": {
    "pycharm": {
     "name": "#%%\n"
    }
   },
   "outputs": [
    {
     "data": {
      "text/latex": [
       "$\\displaystyle \\dot{\\theta} k_{0} \\left(\\frac{\\dot{\\theta}^{2} c_{0}}{2} - c_{1} g \\cos{\\left(\\theta \\right)}\\right) \\cos{\\left(\\theta \\right)}$"
      ],
      "text/plain": [
       "\\dot{\\theta}*k0*(\\dot{\\theta}**2*c0/2 - c1*g*cos(\\theta))*cos(\\theta)"
      ]
     },
     "execution_count": 273,
     "metadata": {},
     "output_type": "execute_result"
    }
   ],
   "source": [
    "u_ff"
   ]
  },
  {
   "cell_type": "markdown",
   "metadata": {},
   "source": []
  },
  {
   "cell_type": "code",
   "execution_count": 274,
   "metadata": {
    "pycharm": {
     "name": "#%%\n"
    }
   },
   "outputs": [
    {
     "data": {
      "text/latex": [
       "$\\displaystyle \\frac{\\dot{\\theta} k_{0} \\left(\\dot{\\theta}^{2} c_{0} - 2 c_{1} g \\cos{\\left(\\theta \\right)}\\right) \\left(c_{0} c_{2} - c_{1}^{2} \\cos^{2}{\\left(\\theta \\right)}\\right) \\cos{\\left(\\theta \\right)} + 2 c_{0} \\left(- \\dot{\\theta}^{2} c_{1} \\sin{\\left(\\theta \\right)} + \\dot{x} c_{3}\\right) - c_{1}^{2} g \\sin{\\left(2 \\theta \\right)}}{2 c_{0}}$"
      ],
      "text/plain": [
       "(\\dot{\\theta}*k0*(\\dot{\\theta}**2*c0 - 2*c1*g*cos(\\theta))*(c0*c2 - c1**2*cos(\\theta)**2)*cos(\\theta) + 2*c0*(-\\dot{\\theta}**2*c1*sin(\\theta) + \\dot{x}*c3) - c1**2*g*sin(2*\\theta))/(2*c0)"
      ]
     },
     "execution_count": 274,
     "metadata": {},
     "output_type": "execute_result"
    }
   ],
   "source": [
    "u_final"
   ]
  },
  {
   "cell_type": "code",
   "execution_count": 275,
   "metadata": {
    "pycharm": {
     "name": "#%%\n"
    }
   },
   "outputs": [
    {
     "data": {
      "text/latex": [
       "$\\displaystyle - \\dot{\\theta} c_{1} u_{d} \\cos{\\left(\\theta \\right)}$"
      ],
      "text/plain": [
       "-\\dot{\\theta}*c1*u_d*cos(\\theta)"
      ]
     },
     "execution_count": 275,
     "metadata": {},
     "output_type": "execute_result"
    }
   ],
   "source": [
    "\n"
   ]
  },
  {
   "cell_type": "code",
   "execution_count": 278,
   "metadata": {},
   "outputs": [
    {
     "data": {
      "text/latex": [
       "$\\displaystyle - \\dot{\\theta}^{2} c_{1} k_{0} \\cos^{2}{\\left(\\theta \\right)}$"
      ],
      "text/plain": [
       "-\\dot{\\theta}**2*c1*k0*cos(\\theta)**2"
      ]
     },
     "execution_count": 278,
     "metadata": {},
     "output_type": "execute_result"
    }
   ],
   "source": []
  },
  {
   "cell_type": "code",
   "execution_count": 333,
   "metadata": {
    "pycharm": {
     "name": "#%%\n"
    }
   },
   "outputs": [
    {
     "data": {
      "text/latex": [
       "$\\displaystyle \\left[\\begin{matrix}\\frac{c_{0}}{c_{0} c_{2} - c_{1}^{2}}\\\\\\frac{c_{1}}{c_{0} c_{2} - c_{1}^{2}}\\\\0\\\\0\\end{matrix}\\right]$"
      ],
      "text/plain": [
       "Matrix([\n",
       "[c0/(c0*c2 - c1**2)],\n",
       "[c1/(c0*c2 - c1**2)],\n",
       "[                 0],\n",
       "[                 0]])"
      ]
     },
     "execution_count": 333,
     "metadata": {},
     "output_type": "execute_result"
    }
   ],
   "source": [
    "## Stabilisation\n",
    "cv = zip(c, [1, 1, 2, 0.1]) \n",
    "A = sp.Matrix([[row.diff(x_i) for x_i in X] for row in  (M.inv() @  (F + G * u))]).subs(zip(X, [0,0,0,sp.pi])).subs(u, 0)\n",
    "B = sp.Matrix([[row.diff(u)] for row in  (M.inv() @  (F + G * u))]).subs(zip(X, [0,0,0,sp.pi]))\n",
    "# B = B.subs(c[0],1).subs(c[1], 1).subs(c[2], 2)\n",
    "# P = sp.eye(4)\n",
    "# V = sp.zeros(4,4)\n",
    "\n",
    "# for i, (e_val, multip, e_vect) in enumerate(A.eigenvects()):\n",
    "#     P[i,i] = e_val\n",
    "#     V[:, i ] = e_vect\n",
    "\n",
    "\n",
    "B"
   ]
  },
  {
   "cell_type": "markdown",
   "metadata": {
    "pycharm": {
     "name": "#%% md\n"
    }
   },
   "source": []
  },
  {
   "cell_type": "code",
   "execution_count": 225,
   "metadata": {
    "pycharm": {
     "name": "#%%\n"
    }
   },
   "outputs": [
    {
     "data": {
      "text/latex": [
       "$\\displaystyle \\left[\\begin{matrix}-0.01 & -20 & -0.01 & 0\\\\-0.01 & -20 & -0.01 & 1\\\\1 & 0 & 0 & 0\\\\0 & 1 & 0 & 0\\end{matrix}\\right]$"
      ],
      "text/plain": [
       "Matrix([\n",
       "[-0.01, -20, -0.01, 0],\n",
       "[-0.01, -20, -0.01, 1],\n",
       "[    1,   0,     0, 0],\n",
       "[    0,   1,     0, 0]])"
      ]
     },
     "execution_count": 225,
     "metadata": {},
     "output_type": "execute_result"
    }
   ],
   "source": [
    "# m_c = 1, m_p = 1, l = 1, I =0, g=0\n",
    "# c0 = 1, c1 =1, c2 = 2\n",
    "\n",
    "\n",
    "jr = J.subs(cv).subs(g, 1).subs(zip(k, [10, 0.01, 0.01]))\n",
    "\n",
    "jr"
   ]
  },
  {
   "cell_type": "code",
   "execution_count": 232,
   "metadata": {
    "pycharm": {
     "name": "#%%\n"
    }
   },
   "outputs": [
    {
     "data": {
      "text/plain": [
       "[(-20.0593299792276 + 2.0105956147527e-66*I,\n",
       "  1,\n",
       "  [Matrix([\n",
       "   [ -0.705335785805672 - 0.00456254590424892*I],\n",
       "   [ -0.707093077028701 - 0.00457391314526171*I],\n",
       "   [0.0351624798303872 + 0.000227452557437046*I],\n",
       "   [0.0352500845123407 + 0.000228019238429111*I]])]),\n",
       " (-0.0263073362459389 - 0.064792281307719*I,\n",
       "  1,\n",
       "  [Matrix([\n",
       "   [   -0.0339573668666935 + 0.0611349302225666*I],\n",
       "   [ 8.79265192379046e-5 + 0.000329243778833078*I],\n",
       "   [     -0.627335618098827 - 0.778810297964638*I],\n",
       "   [-0.00483538012186667 - 0.000606236587324663*I]])]),\n",
       " (-0.0263073362459389 + 0.064792281307719*I,\n",
       "  1,\n",
       "  [Matrix([\n",
       "   [   0.0611736800548332 - 0.0344985523756615*I],\n",
       "   [0.000331211630232174 + 8.61607239411923e-5*I],\n",
       "   [    -0.786189274482077 - 0.624937625915304*I],\n",
       "   [-0.00064021918521731 - 0.00485195400610334*I]])]),\n",
       " (0.101944651719479,\n",
       "  1,\n",
       "  [Matrix([\n",
       "   [  -0.10201535562978 - 2.08070814667769e-65*I],\n",
       "   [0.00107135044876743 - 9.26793507583945e-66*I],\n",
       "   [  -1.00069355193341 - 5.01074938823352e-64*I],\n",
       "   [ 0.0105091383480859 - 6.26896151603117e-67*I]])])]"
      ]
     },
     "execution_count": 232,
     "metadata": {},
     "output_type": "execute_result"
    }
   ],
   "source": [
    "jr.eigenvects()"
   ]
  },
  {
   "cell_type": "code",
   "execution_count": 227,
   "metadata": {
    "pycharm": {
     "name": "#%%\n"
    }
   },
   "outputs": [],
   "source": [
    "p.coeffs()\n",
    "\n",
    "def prod(args):\n",
    "    if args is None:\n",
    "        return 0\n",
    "    v = 1\n",
    "    for arg in args:\n",
    "        v*= arg\n",
    "    return v\n",
    "\n",
    "def quartic_discriminant(coeffs):\n",
    "\n",
    "    signatures =[\n",
    "        (256, [3, 0 ,0 , 0, 3]),\n",
    "        (-192, [2,1,0,1,2]),\n",
    "        (-128, [2,0,2,0,2]),\n",
    "        (144, [2,0,1,2,1]),\n",
    "        (-27, [2,0,0,4,0]),\n",
    "        (144 , [1,2,1,0,2]),\n",
    "        (-6, [1,2,0,2,1]),\n",
    "        (-80, [1,1,2,1,1]),\n",
    "        (18, [1,1,1,3,0]),\n",
    "        (16, [1,0,4,0,1]),\n",
    "        (-4, [1,0,3,2,0]),\n",
    "        (-27, [0,4,0,0,2]),\n",
    "        (18, [0,3,1,1,1]),\n",
    "        (-4, [0,3,0,3,0]),\n",
    "        (-4, [0,2,3,0,1]),\n",
    "        (1, [0,2,2,2,0])\n",
    "    ]\n",
    "    return sum(\n",
    "        c_i * prod(b_i ** exp_i for  b_i, exp_i in zip(coeffs, exponents))\n",
    "        for c_i, exponents in signatures\n",
    "    )\n",
    "\n",
    "delta = quartic_discriminant(p.coeffs())\n"
   ]
  },
  {
   "cell_type": "code",
   "execution_count": 228,
   "metadata": {
    "pycharm": {
     "name": "#%%\n"
    }
   },
   "outputs": [],
   "source": [
    "f = sp.lambdify(k, delta)\n",
    "f_k0 = lambda x: f(x, 0.5, 0.25)"
   ]
  },
  {
   "cell_type": "code",
   "execution_count": 229,
   "metadata": {
    "pycharm": {
     "name": "#%%\n"
    }
   },
   "outputs": [
    {
     "ename": "ValueError",
     "evalue": "x and y must have same first dimension, but have shapes (50,) and (1,)",
     "output_type": "error",
     "traceback": [
      "\u001B[0;31m---------------------------------------------------------------------------\u001B[0m",
      "\u001B[0;31mValueError\u001B[0m                                Traceback (most recent call last)",
      "\u001B[0;32m/var/folders/5_/85y8q52s64v5_lwc79g37b_80000gp/T/ipykernel_1182/2078815664.py\u001B[0m in \u001B[0;36m<module>\u001B[0;34m\u001B[0m\n\u001B[1;32m      3\u001B[0m \u001B[0mt\u001B[0m \u001B[0;34m=\u001B[0m \u001B[0mnp\u001B[0m\u001B[0;34m.\u001B[0m\u001B[0mlinspace\u001B[0m\u001B[0;34m(\u001B[0m\u001B[0;36m0\u001B[0m\u001B[0;34m,\u001B[0m \u001B[0;36m100\u001B[0m\u001B[0;34m)\u001B[0m\u001B[0;34m\u001B[0m\u001B[0;34m\u001B[0m\u001B[0m\n\u001B[1;32m      4\u001B[0m \u001B[0;34m\u001B[0m\u001B[0m\n\u001B[0;32m----> 5\u001B[0;31m \u001B[0mplt\u001B[0m\u001B[0;34m.\u001B[0m\u001B[0mplot\u001B[0m\u001B[0;34m(\u001B[0m\u001B[0mt\u001B[0m\u001B[0;34m,\u001B[0m \u001B[0mf_k0\u001B[0m\u001B[0;34m(\u001B[0m\u001B[0mt\u001B[0m\u001B[0;34m)\u001B[0m\u001B[0;34m)\u001B[0m\u001B[0;34m\u001B[0m\u001B[0;34m\u001B[0m\u001B[0m\n\u001B[0m",
      "\u001B[0;32m/usr/local/lib/python3.9/site-packages/matplotlib/pyplot.py\u001B[0m in \u001B[0;36mplot\u001B[0;34m(scalex, scaley, data, *args, **kwargs)\u001B[0m\n\u001B[1;32m   2755\u001B[0m \u001B[0;34m@\u001B[0m\u001B[0m_copy_docstring_and_deprecators\u001B[0m\u001B[0;34m(\u001B[0m\u001B[0mAxes\u001B[0m\u001B[0;34m.\u001B[0m\u001B[0mplot\u001B[0m\u001B[0;34m)\u001B[0m\u001B[0;34m\u001B[0m\u001B[0;34m\u001B[0m\u001B[0m\n\u001B[1;32m   2756\u001B[0m \u001B[0;32mdef\u001B[0m \u001B[0mplot\u001B[0m\u001B[0;34m(\u001B[0m\u001B[0;34m*\u001B[0m\u001B[0margs\u001B[0m\u001B[0;34m,\u001B[0m \u001B[0mscalex\u001B[0m\u001B[0;34m=\u001B[0m\u001B[0;32mTrue\u001B[0m\u001B[0;34m,\u001B[0m \u001B[0mscaley\u001B[0m\u001B[0;34m=\u001B[0m\u001B[0;32mTrue\u001B[0m\u001B[0;34m,\u001B[0m \u001B[0mdata\u001B[0m\u001B[0;34m=\u001B[0m\u001B[0;32mNone\u001B[0m\u001B[0;34m,\u001B[0m \u001B[0;34m**\u001B[0m\u001B[0mkwargs\u001B[0m\u001B[0;34m)\u001B[0m\u001B[0;34m:\u001B[0m\u001B[0;34m\u001B[0m\u001B[0;34m\u001B[0m\u001B[0m\n\u001B[0;32m-> 2757\u001B[0;31m     return gca().plot(\n\u001B[0m\u001B[1;32m   2758\u001B[0m         \u001B[0;34m*\u001B[0m\u001B[0margs\u001B[0m\u001B[0;34m,\u001B[0m \u001B[0mscalex\u001B[0m\u001B[0;34m=\u001B[0m\u001B[0mscalex\u001B[0m\u001B[0;34m,\u001B[0m \u001B[0mscaley\u001B[0m\u001B[0;34m=\u001B[0m\u001B[0mscaley\u001B[0m\u001B[0;34m,\u001B[0m\u001B[0;34m\u001B[0m\u001B[0;34m\u001B[0m\u001B[0m\n\u001B[1;32m   2759\u001B[0m         **({\"data\": data} if data is not None else {}), **kwargs)\n",
      "\u001B[0;32m/usr/local/lib/python3.9/site-packages/matplotlib/axes/_axes.py\u001B[0m in \u001B[0;36mplot\u001B[0;34m(self, scalex, scaley, data, *args, **kwargs)\u001B[0m\n\u001B[1;32m   1630\u001B[0m         \"\"\"\n\u001B[1;32m   1631\u001B[0m         \u001B[0mkwargs\u001B[0m \u001B[0;34m=\u001B[0m \u001B[0mcbook\u001B[0m\u001B[0;34m.\u001B[0m\u001B[0mnormalize_kwargs\u001B[0m\u001B[0;34m(\u001B[0m\u001B[0mkwargs\u001B[0m\u001B[0;34m,\u001B[0m \u001B[0mmlines\u001B[0m\u001B[0;34m.\u001B[0m\u001B[0mLine2D\u001B[0m\u001B[0;34m)\u001B[0m\u001B[0;34m\u001B[0m\u001B[0;34m\u001B[0m\u001B[0m\n\u001B[0;32m-> 1632\u001B[0;31m         \u001B[0mlines\u001B[0m \u001B[0;34m=\u001B[0m \u001B[0;34m[\u001B[0m\u001B[0;34m*\u001B[0m\u001B[0mself\u001B[0m\u001B[0;34m.\u001B[0m\u001B[0m_get_lines\u001B[0m\u001B[0;34m(\u001B[0m\u001B[0;34m*\u001B[0m\u001B[0margs\u001B[0m\u001B[0;34m,\u001B[0m \u001B[0mdata\u001B[0m\u001B[0;34m=\u001B[0m\u001B[0mdata\u001B[0m\u001B[0;34m,\u001B[0m \u001B[0;34m**\u001B[0m\u001B[0mkwargs\u001B[0m\u001B[0;34m)\u001B[0m\u001B[0;34m]\u001B[0m\u001B[0;34m\u001B[0m\u001B[0;34m\u001B[0m\u001B[0m\n\u001B[0m\u001B[1;32m   1633\u001B[0m         \u001B[0;32mfor\u001B[0m \u001B[0mline\u001B[0m \u001B[0;32min\u001B[0m \u001B[0mlines\u001B[0m\u001B[0;34m:\u001B[0m\u001B[0;34m\u001B[0m\u001B[0;34m\u001B[0m\u001B[0m\n\u001B[1;32m   1634\u001B[0m             \u001B[0mself\u001B[0m\u001B[0;34m.\u001B[0m\u001B[0madd_line\u001B[0m\u001B[0;34m(\u001B[0m\u001B[0mline\u001B[0m\u001B[0;34m)\u001B[0m\u001B[0;34m\u001B[0m\u001B[0;34m\u001B[0m\u001B[0m\n",
      "\u001B[0;32m/usr/local/lib/python3.9/site-packages/matplotlib/axes/_base.py\u001B[0m in \u001B[0;36m__call__\u001B[0;34m(self, data, *args, **kwargs)\u001B[0m\n\u001B[1;32m    310\u001B[0m                 \u001B[0mthis\u001B[0m \u001B[0;34m+=\u001B[0m \u001B[0margs\u001B[0m\u001B[0;34m[\u001B[0m\u001B[0;36m0\u001B[0m\u001B[0;34m]\u001B[0m\u001B[0;34m,\u001B[0m\u001B[0;34m\u001B[0m\u001B[0;34m\u001B[0m\u001B[0m\n\u001B[1;32m    311\u001B[0m                 \u001B[0margs\u001B[0m \u001B[0;34m=\u001B[0m \u001B[0margs\u001B[0m\u001B[0;34m[\u001B[0m\u001B[0;36m1\u001B[0m\u001B[0;34m:\u001B[0m\u001B[0;34m]\u001B[0m\u001B[0;34m\u001B[0m\u001B[0;34m\u001B[0m\u001B[0m\n\u001B[0;32m--> 312\u001B[0;31m             \u001B[0;32myield\u001B[0m \u001B[0;32mfrom\u001B[0m \u001B[0mself\u001B[0m\u001B[0;34m.\u001B[0m\u001B[0m_plot_args\u001B[0m\u001B[0;34m(\u001B[0m\u001B[0mthis\u001B[0m\u001B[0;34m,\u001B[0m \u001B[0mkwargs\u001B[0m\u001B[0;34m)\u001B[0m\u001B[0;34m\u001B[0m\u001B[0;34m\u001B[0m\u001B[0m\n\u001B[0m\u001B[1;32m    313\u001B[0m \u001B[0;34m\u001B[0m\u001B[0m\n\u001B[1;32m    314\u001B[0m     \u001B[0;32mdef\u001B[0m \u001B[0mget_next_color\u001B[0m\u001B[0;34m(\u001B[0m\u001B[0mself\u001B[0m\u001B[0;34m)\u001B[0m\u001B[0;34m:\u001B[0m\u001B[0;34m\u001B[0m\u001B[0;34m\u001B[0m\u001B[0m\n",
      "\u001B[0;32m/usr/local/lib/python3.9/site-packages/matplotlib/axes/_base.py\u001B[0m in \u001B[0;36m_plot_args\u001B[0;34m(self, tup, kwargs, return_kwargs)\u001B[0m\n\u001B[1;32m    496\u001B[0m \u001B[0;34m\u001B[0m\u001B[0m\n\u001B[1;32m    497\u001B[0m         \u001B[0;32mif\u001B[0m \u001B[0mx\u001B[0m\u001B[0;34m.\u001B[0m\u001B[0mshape\u001B[0m\u001B[0;34m[\u001B[0m\u001B[0;36m0\u001B[0m\u001B[0;34m]\u001B[0m \u001B[0;34m!=\u001B[0m \u001B[0my\u001B[0m\u001B[0;34m.\u001B[0m\u001B[0mshape\u001B[0m\u001B[0;34m[\u001B[0m\u001B[0;36m0\u001B[0m\u001B[0;34m]\u001B[0m\u001B[0;34m:\u001B[0m\u001B[0;34m\u001B[0m\u001B[0;34m\u001B[0m\u001B[0m\n\u001B[0;32m--> 498\u001B[0;31m             raise ValueError(f\"x and y must have same first dimension, but \"\n\u001B[0m\u001B[1;32m    499\u001B[0m                              f\"have shapes {x.shape} and {y.shape}\")\n\u001B[1;32m    500\u001B[0m         \u001B[0;32mif\u001B[0m \u001B[0mx\u001B[0m\u001B[0;34m.\u001B[0m\u001B[0mndim\u001B[0m \u001B[0;34m>\u001B[0m \u001B[0;36m2\u001B[0m \u001B[0;32mor\u001B[0m \u001B[0my\u001B[0m\u001B[0;34m.\u001B[0m\u001B[0mndim\u001B[0m \u001B[0;34m>\u001B[0m \u001B[0;36m2\u001B[0m\u001B[0;34m:\u001B[0m\u001B[0;34m\u001B[0m\u001B[0;34m\u001B[0m\u001B[0m\n",
      "\u001B[0;31mValueError\u001B[0m: x and y must have same first dimension, but have shapes (50,) and (1,)"
     ]
    },
    {
     "data": {
      "image/png": "[encoded data removed]",
      "text/plain": [
       "<Figure size 432x288 with 1 Axes>"
      ]
     },
     "metadata": {
      "needs_background": "light"
     },
     "output_type": "display_data"
    }
   ],
   "source": [
    "import matplotlib.pyplot as plt\n",
    "import numpy as np\n",
    "t = np.linspace(0, 100)\n",
    "\n",
    "plt.plot(t, f_k0(t))"
   ]
  },
  {
   "cell_type": "code",
   "execution_count": 336,
   "metadata": {},
   "outputs": [
    {
     "data": {
      "text/latex": [
       "$\\displaystyle \\left[\\begin{matrix}c_{3}\\\\\\frac{2 \\dot{\\theta}^{2} c_{0} k_{0} \\left(c_{0} c_{2} - c_{1}^{2} \\cos^{2}{\\left(\\theta \\right)}\\right) \\cos{\\left(\\theta \\right)} - 4 \\dot{\\theta} c_{0} c_{1} \\sin{\\left(\\theta \\right)} + k_{0} \\left(\\dot{\\theta}^{2} c_{0} - 2 c_{1} g \\cos{\\left(\\theta \\right)}\\right) \\left(c_{0} c_{2} - c_{1}^{2} \\cos^{2}{\\left(\\theta \\right)}\\right) \\cos{\\left(\\theta \\right)}}{2 c_{0}}\\\\0\\\\\\frac{- 2 \\dot{\\theta}^{2} c_{0} c_{1} \\cos{\\left(\\theta \\right)} + 2 \\dot{\\theta} c_{1}^{2} k_{0} \\left(\\dot{\\theta}^{2} c_{0} - 2 c_{1} g \\cos{\\left(\\theta \\right)}\\right) \\sin{\\left(\\theta \\right)} \\cos^{2}{\\left(\\theta \\right)} + 2 \\dot{\\theta} c_{1} g k_{0} \\left(c_{0} c_{2} - c_{1}^{2} \\cos^{2}{\\left(\\theta \\right)}\\right) \\sin{\\left(\\theta \\right)} \\cos{\\left(\\theta \\right)} - \\dot{\\theta} k_{0} \\left(\\dot{\\theta}^{2} c_{0} - 2 c_{1} g \\cos{\\left(\\theta \\right)}\\right) \\left(c_{0} c_{2} - c_{1}^{2} \\cos^{2}{\\left(\\theta \\right)}\\right) \\sin{\\left(\\theta \\right)} - 2 c_{1}^{2} g \\cos{\\left(2 \\theta \\right)}}{2 c_{0}}\\end{matrix}\\right]$"
      ],
      "text/plain": [
       "Matrix([\n",
       "[                                                                                                                                                                                                                                                                                                                                                           c3],\n",
       "[                                                                                                                                                     (2*\\dot{\\theta}**2*c0*k0*(c0*c2 - c1**2*cos(\\theta)**2)*cos(\\theta) - 4*\\dot{\\theta}*c0*c1*sin(\\theta) + k0*(\\dot{\\theta}**2*c0 - 2*c1*g*cos(\\theta))*(c0*c2 - c1**2*cos(\\theta)**2)*cos(\\theta))/(2*c0)],\n",
       "[                                                                                                                                                                                                                                                                                                                                                            0],\n",
       "[(-2*\\dot{\\theta}**2*c0*c1*cos(\\theta) + 2*\\dot{\\theta}*c1**2*k0*(\\dot{\\theta}**2*c0 - 2*c1*g*cos(\\theta))*sin(\\theta)*cos(\\theta)**2 + 2*\\dot{\\theta}*c1*g*k0*(c0*c2 - c1**2*cos(\\theta)**2)*sin(\\theta)*cos(\\theta) - \\dot{\\theta}*k0*(\\dot{\\theta}**2*c0 - 2*c1*g*cos(\\theta))*(c0*c2 - c1**2*cos(\\theta)**2)*sin(\\theta) - 2*c1**2*g*cos(2*\\theta))/(2*c0)]])"
      ]
     },
     "execution_count": 336,
     "metadata": {},
     "output_type": "execute_result"
    }
   ],
   "source": [
    "u_final.diff(X)"
   ]
  },
  {
   "cell_type": "code",
   "execution_count": 136,
   "metadata": {},
   "outputs": [
    {
     "data": {
      "text/latex": [
       "$\\displaystyle \\left[\\begin{matrix}1\\\\0\\\\0\\\\0\\end{matrix}\\right]$"
      ],
      "text/plain": [
       "Matrix([\n",
       "[1],\n",
       "[0],\n",
       "[0],\n",
       "[0]])"
      ]
     },
     "execution_count": 136,
     "metadata": {},
     "output_type": "execute_result"
    }
   ],
   "source": [
    "M(X, Z) (DX , DZ) - F(X, Z) = Gu\n",
    "\n",
    "# min loss\n",
    "# constraint y^2 + z^2 = 1\n",
    "# dydt = z * dtheta    (sin(theta))\n",
    "# dzdt = -y * dtheta   (cos(theta))"
   ]
  },
  {
   "cell_type": "code",
   "execution_count": 166,
   "metadata": {},
   "outputs": [],
   "source": [
    "z_c,z_s = sp.symbols('z_c, z_s')\n",
    "subs_z = [(sp.sin(theta), z_s), (sp.cos(theta), z_c)]\n",
    "Mz = sp.eye(5)\n",
    "Fz = sp.zeros(5,1)\n",
    "Mz[0:4, 0:4] = M.subs(subs_z)\n",
    "Fz[0:4,0] = F.subs(subs_z)\n",
    "Z_list = [dx, dtheta, x, z_s, z_c]\n",
    "Z = sp.symbols('z:5')\n",
    "\n",
    "Fz[3,0] = z_c * dtheta\n",
    "Fz[4,0] = -z_s *dtheta\n",
    "Gz = sp.zeros(5,1)\n",
    "Gz[0,0] = 1\n",
    "\n",
    "Fz = Fz.subs(zip(Z_list, Z))\n",
    "Mz = Mz.subs(zip(Z_list, Z))\n",
    "Hz = Z[3]**2 + Z[4]**2 - 1"
   ]
  },
  {
   "cell_type": "code",
   "execution_count": 168,
   "metadata": {},
   "outputs": [
    {
     "data": {
      "text/latex": [
       "$\\displaystyle \\left[\\begin{matrix}c_{1} z_{1}^{2} z_{3}\\\\- c_{1} g z_{3}\\\\z_{0}\\\\z_{1} z_{4}\\\\- z_{1} z_{3}\\end{matrix}\\right]$"
      ],
      "text/plain": [
       "Matrix([\n",
       "[c1*z1**2*z3],\n",
       "[   -c1*g*z3],\n",
       "[         z0],\n",
       "[      z1*z4],\n",
       "[     -z1*z3]])"
      ]
     },
     "execution_count": 168,
     "metadata": {},
     "output_type": "execute_result"
    }
   ],
   "source": [
    "# Mz(Z) @ Z' - Fz(Z) = G u\n",
    "# H(z) = 0\n",
    "\n",
    "# \n"
   ]
  },
  {
   "cell_type": "code",
   "execution_count": 184,
   "metadata": {},
   "outputs": [],
   "source": [
    "Zp = sp.Matrix(sp.symbols(r'\\dot{z}_0, \\dot{z}_1, \\dot{z}_2, \\dot{z}_3, \\dot{z}_4 '))\n",
    "\n",
    "Phi_0 = Mz @ Zp - Fz\n",
    "Phi_u = Phi_0[0]\n",
    "Phi_0[0] = Hz"
   ]
  },
  {
   "cell_type": "code",
   "execution_count": 185,
   "metadata": {},
   "outputs": [
    {
     "data": {
      "text/latex": [
       "$\\displaystyle \\left[\\begin{matrix}z_{3}^{2} + z_{4}^{2} - 1\\\\\\dot{z}_0 c_{1} z_{4} + \\dot{z}_1 c_{0} + c_{1} g z_{3}\\\\\\dot{z}_2 - z_{0}\\\\\\dot{z}_3 - z_{1} z_{4}\\\\\\dot{z}_4 + z_{1} z_{3}\\end{matrix}\\right]$"
      ],
      "text/plain": [
       "Matrix([\n",
       "[                       z3**2 + z4**2 - 1],\n",
       "[\\dot{z}_0*c1*z4 + \\dot{z}_1*c0 + c1*g*z3],\n",
       "[                          \\dot{z}_2 - z0],\n",
       "[                       \\dot{z}_3 - z1*z4],\n",
       "[                       \\dot{z}_4 + z1*z3]])"
      ]
     },
     "execution_count": 185,
     "metadata": {},
     "output_type": "execute_result"
    }
   ],
   "source": [
    "Phi_0"
   ]
  },
  {
   "cell_type": "code",
   "execution_count": 186,
   "metadata": {},
   "outputs": [
    {
     "data": {
      "text/latex": [
       "$\\displaystyle \\dot{z}_0 c_{2} + \\dot{z}_1 c_{1} z_{4} + \\dot{z}_2 c_{3} - c_{1} z_{1}^{2} z_{3}$"
      ],
      "text/plain": [
       "\\dot{z}_0*c2 + \\dot{z}_1*c1*z4 + \\dot{z}_2*c3 - c1*z1**2*z3"
      ]
     },
     "execution_count": 186,
     "metadata": {},
     "output_type": "execute_result"
    }
   ],
   "source": [
    "Phi_u"
   ]
  },
  {
   "cell_type": "code",
   "execution_count": 239,
   "metadata": {},
   "outputs": [
    {
     "data": {
      "text/latex": [
       "$\\displaystyle \\frac{\\dot{\\theta}^{2} c_{0}}{2} - c_{1} g \\left(\\cos{\\left(\\theta \\right)} - 1\\right)$"
      ],
      "text/plain": [
       "\\dot{\\theta}**2*c0/2 - c1*g*(cos(\\theta) - 1)"
      ]
     },
     "execution_count": 239,
     "metadata": {},
     "output_type": "execute_result"
    }
   ],
   "source": [
    "# E = T + (1 + cos(theta))\n",
    "# Min when "
   ]
  },
  {
   "cell_type": "code",
   "execution_count": null,
   "metadata": {},
   "outputs": [],
   "source": [
    "A.T @ P + P @ A "
   ]
  }
 ],
 "metadata": {
  "kernelspec": {
   "display_name": "Python 3 (ipykernel)",
   "language": "python",
   "name": "python3"
  },
  "language_info": {
   "codemirror_mode": {
    "name": "ipython",
    "version": 3
   },
   "file_extension": ".py",
   "mimetype": "text/x-python",
   "name": "python",
   "nbconvert_exporter": "python",
   "pygments_lexer": "ipython3",
   "version": "3.9.9"
  }
 },
 "nbformat": 4,
 "nbformat_minor": 1
}